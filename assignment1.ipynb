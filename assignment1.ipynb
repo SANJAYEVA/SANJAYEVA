{
 "cells": [
  {
   "cell_type": "code",
   "execution_count": 1,
   "id": "c705a664-8674-4af4-ba73-07d9f84379c8",
   "metadata": {},
   "outputs": [],
   "source": [
    "# Q1. Create one variable containing following type of data:\n",
    "(i) string\n",
    "(ii) list\n",
    "(iii) float\n",
    "(iv) tuple\n",
    "\n",
    "Answer:\n",
    "\n",
    "(i) a=\"abc\"\n",
    "(ii) l=[1,2,\"abc\",12.34]\n",
    "(iii) k=12.34\n",
    "(iv) t=(1,2,3,78.90,\"kbc\")\n"
   ]
  },
  {
   "cell_type": "code",
   "execution_count": null,
   "id": "dc71cdc3-296e-4080-89dc-1e6c418f9753",
   "metadata": {},
   "outputs": [],
   "source": [
    "# Q2. Given are some following variables containing data:\n",
    "(i) var1 = ‘ ‘\n",
    "(ii) var2 = ‘[ DS , ML , Python]’\n",
    "(iii) var3 = [ ‘DS’ , ’ML’ , ‘Python’ ]\n",
    "(iv) var4 = 1.\n",
    "What will be the data type of the above given variable.\n",
    "\n",
    "answer:\n",
    "\n",
    "(1) string\n",
    "(2) string\n",
    "(3) list\n",
    "(4) float\n"
   ]
  },
  {
   "cell_type": "code",
   "execution_count": null,
   "id": "9ea4c04d-fe5c-4f33-afe5-c22cc641de33",
   "metadata": {},
   "outputs": [],
   "source": [
    "# Q3. Explain the use of the following operators using an example:\n",
    "(i) /\n",
    "(ii) %\n",
    "(iii) //\n",
    "(iv) **\n",
    "\n",
    "\n",
    "Answer:\n",
    "\n",
    "(1) x=4 ; y=2\n",
    "    print(x/y)      output: 2.0\n",
    "\n",
    "(2) print(x%y)       output: 0\n",
    "\n",
    "(3) print(x//y)      output: 2\n",
    "\n",
    "(4) print(x**y)      output: 16"
   ]
  },
  {
   "cell_type": "code",
   "execution_count": 2,
   "id": "1c6e79c9-10ef-4bc9-96c3-3cea79498bf2",
   "metadata": {},
   "outputs": [
    {
     "name": "stdout",
     "output_type": "stream",
     "text": [
      "1  its data type is= <class 'int'>\n",
      "2  its data type is= <class 'int'>\n",
      "4.5  its data type is= <class 'float'>\n",
      "3  its data type is= <class 'int'>\n",
      "a  its data type is= <class 'str'>\n",
      "8  its data type is= <class 'int'>\n",
      "abc  its data type is= <class 'str'>\n",
      "[1, 2, 3]  its data type is= <class 'list'>\n",
      "(3, 4, 5)  its data type is= <class 'tuple'>\n",
      "34  its data type is= <class 'int'>\n"
     ]
    }
   ],
   "source": [
    "'''Q4. Create a list of length 10 of your choice containing multiple types of data. Using for loop print the\n",
    "element and its data type.'''\n",
    "\n",
    "l=[1,2,4.5,3,\"a\",8,\"abc\",[1,2,3],(3,4,5),34]\n",
    "for i in l:\n",
    "    print(i, \" its data type is=\",type(i))"
   ]
  },
  {
   "cell_type": "code",
   "execution_count": 5,
   "id": "65f45c25-2d3b-40bc-89e1-1670dd507597",
   "metadata": {},
   "outputs": [
    {
     "name": "stdin",
     "output_type": "stream",
     "text": [
      "Pls enter the value of variable A: 9\n",
      "Pls enter the value of variable B: 3\n"
     ]
    },
    {
     "name": "stdout",
     "output_type": "stream",
     "text": [
      "Number A is purely divisible by Number B and it can be divisible by: 2  Times\n"
     ]
    }
   ],
   "source": [
    "'''Q5. Using a while loop, verify if the number A is purely divisible by number B and if so then how many\n",
    "times it can be divisible.'''\n",
    "\n",
    "A=int(input(\"Pls enter the value of variable A:\"))\n",
    "B=int(input(\"Pls enter the value of variable B:\"))\n",
    "count=0\n",
    "while(A>0):\n",
    "    if(A%B==0):\n",
    "        count=count+1\n",
    "    A=A//B\n",
    "if(count>0):\n",
    "    print(\"Number A is purely divisible by Number B and it can be divisible by:\",count,\" Times\")\n",
    "else:\n",
    "     print(\"Number A is not purely divisible by Number B and it can be divisible by:\",count,\" Times\")\n",
    "    \n"
   ]
  },
  {
   "cell_type": "code",
   "execution_count": null,
   "id": "693000d9-6dab-4b66-8206-06377cca2c07",
   "metadata": {},
   "outputs": [
    {
     "name": "stdout",
     "output_type": "stream",
     "text": [
      "3\n",
      "6\n",
      "9\n",
      "12\n",
      "15\n",
      "18\n",
      "21\n",
      "24\n"
     ]
    },
    {
     "ename": "IndexError",
     "evalue": "list index out of range",
     "output_type": "error",
     "traceback": [
      "\u001b[0;31m---------------------------------------------------------------------------\u001b[0m",
      "\u001b[0;31mIndexError\u001b[0m                                Traceback (most recent call last)",
      "Cell \u001b[0;32mIn[9], line 8\u001b[0m\n\u001b[1;32m      6\u001b[0m     l\u001b[38;5;241m.\u001b[39mappend(i)\n\u001b[1;32m      7\u001b[0m \u001b[38;5;28;01mfor\u001b[39;00m i \u001b[38;5;129;01min\u001b[39;00m l:\n\u001b[0;32m----> 8\u001b[0m     \u001b[38;5;28;01mif\u001b[39;00m(\u001b[43ml\u001b[49m\u001b[43m[\u001b[49m\u001b[43mi\u001b[49m\u001b[43m]\u001b[49m\u001b[38;5;241m%\u001b[39m\u001b[38;5;241m3\u001b[39m\u001b[38;5;241m==\u001b[39m\u001b[38;5;241m0\u001b[39m):\n\u001b[1;32m      9\u001b[0m         \u001b[38;5;28mprint\u001b[39m(l[i])\n",
      "\u001b[0;31mIndexError\u001b[0m: list index out of range"
     ]
    }
   ],
   "source": [
    "'''Q6. Create a list containing 25 int type data. Using for loop and if-else condition print if the element is\n",
    "divisible by 3 or not.'''\n",
    "\n",
    "l=[]\n",
    "for i in range(1,26,1):\n",
    "    l.append(i)\n",
    "for i in l:\n",
    "    if(l[i]%3==0):\n",
    "        print(l[i])"
   ]
  },
  {
   "cell_type": "code",
   "execution_count": 11,
   "id": "6c7b9366-f978-4870-9d64-fd46bffb5177",
   "metadata": {},
   "outputs": [
    {
     "ename": "TypeError",
     "evalue": "'str' object does not support item assignment",
     "output_type": "error",
     "traceback": [
      "\u001b[0;31m---------------------------------------------------------------------------\u001b[0m",
      "\u001b[0;31mTypeError\u001b[0m                                 Traceback (most recent call last)",
      "Cell \u001b[0;32mIn[11], line 8\u001b[0m\n\u001b[1;32m      4\u001b[0m \u001b[38;5;124;03m'''\u001b[39;00m\n\u001b[1;32m      5\u001b[0m \u001b[38;5;124;03mmutable means modifying is possible in the data. and immutable means modifying is not possible in data.\u001b[39;00m\n\u001b[1;32m      6\u001b[0m \u001b[38;5;124;03mfor example '''\u001b[39;00m\n\u001b[1;32m      7\u001b[0m a\u001b[38;5;241m=\u001b[39m\u001b[38;5;124m\"\u001b[39m\u001b[38;5;124mabcd\u001b[39m\u001b[38;5;124m\"\u001b[39m\n\u001b[0;32m----> 8\u001b[0m \u001b[43ma\u001b[49m\u001b[43m[\u001b[49m\u001b[38;5;241;43m2\u001b[39;49m\u001b[43m]\u001b[49m\u001b[38;5;241m=\u001b[39mk\n\u001b[1;32m      9\u001b[0m \u001b[38;5;28mprint\u001b[39m(a)\n\u001b[1;32m     12\u001b[0m \u001b[38;5;66;03m# example for mutable\u001b[39;00m\n",
      "\u001b[0;31mTypeError\u001b[0m: 'str' object does not support item assignment"
     ]
    }
   ],
   "source": [
    "'''Q7. What do you understand about mutable and immutable data types? Give examples for both showing\n",
    "this property.'''\n",
    "\n",
    "'''\n",
    "mutable means modifying is possible in the data. and immutable means modifying is not possible in data.\n",
    "for example '''\n",
    "a=\"abcd\"\n",
    "a[2]=k\n",
    "print(a)\n",
    "\n",
    "\n",
    "# example for mutable\n",
    "a=[2,3,4,5]\n",
    "a[2]=10\n",
    "print(a)\n",
    "\n",
    "\n",
    "\n"
   ]
  }
 ],
 "metadata": {
  "kernelspec": {
   "display_name": "Python 3 (ipykernel)",
   "language": "python",
   "name": "python3"
  },
  "language_info": {
   "codemirror_mode": {
    "name": "ipython",
    "version": 3
   },
   "file_extension": ".py",
   "mimetype": "text/x-python",
   "name": "python",
   "nbconvert_exporter": "python",
   "pygments_lexer": "ipython3",
   "version": "3.10.8"
  }
 },
 "nbformat": 4,
 "nbformat_minor": 5
}
